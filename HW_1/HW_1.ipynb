{
  "nbformat": 4,
  "nbformat_minor": 0,
  "metadata": {
    "colab": {
      "provenance": []
    },
    "kernelspec": {
      "name": "python3",
      "display_name": "Python 3"
    },
    "language_info": {
      "name": "python"
    }
  },
  "cells": [
    {
      "cell_type": "code",
      "execution_count": 1,
      "metadata": {
        "colab": {
          "base_uri": "https://localhost:8080/"
        },
        "id": "HTP2hsqxvndL",
        "outputId": "73e898da-88b5-42bb-a7f7-af5a73a6db57"
      },
      "outputs": [
        {
          "output_type": "stream",
          "name": "stdout",
          "text": [
            "{3, 4}\n"
          ]
        }
      ],
      "source": [
        "#Создайте два множества из 4 разных чисел каждое, найдите их пересечение и выведите на экран.\n",
        "array_1 = {1, 2, 3, 4}\n",
        "array_2 = {3, 4, 5, 6}\n",
        "ar_intersection = array_1 & array_2\n",
        "print(ar_intersection)\n",
        "#Сложность алгоритма O(12): создание 4+4, пересечение 4"
      ]
    }
  ]
}